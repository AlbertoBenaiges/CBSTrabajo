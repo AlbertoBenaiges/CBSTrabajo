{
 "cells": [
  {
   "cell_type": "code",
   "execution_count": 5,
   "metadata": {},
   "outputs": [],
   "source": [
    "# Copyright (c) Microsoft Corporation.\n",
    "# Licensed under the MIT License.\n",
    "\n",
    "from typing import Optional\n",
    "\n",
    "import networkx as nx\n",
    "from gym.spaces import Space, Dict"
   ]
  },
  {
   "cell_type": "code",
   "execution_count": 2,
   "metadata": {},
   "outputs": [],
   "source": [
    "class BaseGraph(Space):\n",
    "    _nx_class: type\n",
    "\n",
    "    def __init__(\n",
    "            self,\n",
    "            max_num_nodes: int,\n",
    "            node_property_space: Optional[Dict] = None,\n",
    "            edge_property_space: Optional[Dict] = None):\n",
    "\n",
    "        self.max_num_nodes = max_num_nodes\n",
    "        self.node_property_space = Dict() if node_property_space is None else node_property_space\n",
    "        self.edge_property_space = Dict() if edge_property_space is None else edge_property_space\n",
    "        super().__init__()\n",
    "\n",
    "    def sample(self):\n",
    "        num_nodes = self.np_random.randint(self.max_num_nodes + 1)\n",
    "        graph = self._nx_class()\n",
    "\n",
    "        # add nodes with properties\n",
    "        for node_id in range(num_nodes):\n",
    "            node_properties = {k: s.sample() for k, s in self.node_property_space.spaces.items()}\n",
    "            graph.add_node(node_id, **node_properties)\n",
    "\n",
    "        if num_nodes < 2:\n",
    "            return graph\n",
    "\n",
    "        # add some edges with properties\n",
    "        seen, unseen = [], list(range(num_nodes))  # init\n",
    "        self.__pop_random(unseen, seen)            # pop one node before we start\n",
    "        while unseen:\n",
    "            node_id_from, node_id_to = self.__sample_random(seen), self.__pop_random(unseen, seen)\n",
    "            edge_properties = {k: s.sample() for k, s in self.edge_property_space.spaces.items()}\n",
    "            graph.add_edge(node_id_from, node_id_to, **edge_properties)\n",
    "\n",
    "        return graph\n",
    "\n",
    "    def __pop_random(self, unseen: list, seen: list):\n",
    "        i = self.np_random.choice(len(unseen))\n",
    "        x = unseen[i]\n",
    "        seen.append(x)\n",
    "        del unseen[i]\n",
    "        return x\n",
    "\n",
    "    def __sample_random(self, seen: list):\n",
    "        i = self.np_random.choice(len(seen))\n",
    "        return seen[i]\n",
    "\n",
    "    def contains(self, x):\n",
    "        return (\n",
    "            isinstance(x, self._nx_class)\n",
    "            and all(node_property in self.node_property_space for node_property in x.nodes.values())\n",
    "            and all(edge_property in self.edge_property_space for edge_property in x.edges.values())\n",
    "        )"
   ]
  },
  {
   "cell_type": "code",
   "execution_count": 3,
   "metadata": {},
   "outputs": [],
   "source": [
    "class Graph(BaseGraph):\n",
    "    _nx_class = nx.Graph\n",
    "\n",
    "\n",
    "class DiGraph(BaseGraph):\n",
    "    _nx_class = nx.DiGraph\n",
    "\n",
    "\n",
    "class MultiGraph(BaseGraph):\n",
    "    _nx_class = nx.MultiGraph\n",
    "\n",
    "\n",
    "class MultiDiGraph(BaseGraph):\n",
    "    _nx_class = nx.MultiDiGraph"
   ]
  },
  {
   "cell_type": "code",
   "execution_count": 24,
   "metadata": {},
   "outputs": [
    {
     "name": "stdout",
     "output_type": "stream",
     "text": [
      "node_id: 0, node_properties: {'category': 4, 'vector': array([0.22842571, 0.7914019 , 0.747517  ], dtype=float32)}\n",
      "node_id: 1, node_properties: {'category': 4, 'vector': array([0.9588306 , 0.16460429, 0.41014153], dtype=float32)}\n",
      "node_id: 2, node_properties: {'category': 2, 'vector': array([0.5922861 , 0.06108106, 0.3061339 ], dtype=float32)}\n",
      "node_id: 3, node_properties: {'category': 2, 'vector': array([0.11197871, 0.5056311 , 0.9970285 ], dtype=float32)}\n",
      "node_id: 4, node_properties: {'category': 5, 'vector': array([0.14211741, 0.9952204 , 0.45855838], dtype=float32)}\n",
      "node_id: 5, node_properties: {'category': 5, 'vector': array([0.6697911 , 0.07584967, 0.6009585 ], dtype=float32)}\n",
      "node_id: 6, node_properties: {'category': 3, 'vector': array([0.49460384, 0.8860519 , 0.5700291 ], dtype=float32)}\n",
      "node_id: 7, node_properties: {'category': 4, 'vector': array([0.42348585, 0.22773007, 0.81719154], dtype=float32)}\n",
      "node_id: 8, node_properties: {'category': 6, 'vector': array([0.92213845, 0.20759091, 0.20658985], dtype=float32)}\n",
      "node_id_from: 0, node_id_to: 4, edge_properties: {'weight': array(0.9974119, dtype=float32)}\n",
      "node_id_from: 2, node_id_to: 6, edge_properties: {'weight': array(0.30590403, dtype=float32)}\n",
      "node_id_from: 2, node_id_to: 1, edge_properties: {'weight': array(0.59021324, dtype=float32)}\n",
      "node_id_from: 3, node_id_to: 2, edge_properties: {'weight': array(0.299652, dtype=float32)}\n",
      "node_id_from: 4, node_id_to: 8, edge_properties: {'weight': array(0.1048607, dtype=float32)}\n",
      "node_id_from: 5, node_id_to: 3, edge_properties: {'weight': array(0.6514519, dtype=float32)}\n",
      "node_id_from: 7, node_id_to: 5, edge_properties: {'weight': array(0.42679223, dtype=float32)}\n",
      "node_id_from: 7, node_id_to: 0, edge_properties: {'weight': array(0.8900879, dtype=float32)}\n"
     ]
    },
    {
     "data": {
      "image/png": "[encoded data removed]",
      "text/plain": [
       "<Figure size 640x480 with 1 Axes>"
      ]
     },
     "metadata": {},
     "output_type": "display_data"
    }
   ],
   "source": [
    "if __name__ == '__main__':\n",
    "    from gym.spaces import Box, Discrete\n",
    "    import matplotlib.pyplot as plt  # type:ignore\n",
    "\n",
    "    space = DiGraph(\n",
    "        max_num_nodes=10,\n",
    "        node_property_space=Dict({'vector': Box(0, 1, (3,)), 'category': Discrete(7)}),\n",
    "        edge_property_space=Dict({'weight': Box(0, 1, ())}))\n",
    "\n",
    "    space.seed(42)\n",
    "    graph = space.sample()\n",
    "    assert graph in space\n",
    "\n",
    "    for node_id, node_properties in graph.nodes.items():\n",
    "        print(f\"node_id: {node_id}, node_properties: {node_properties}\")\n",
    "\n",
    "    for (node_id_from, node_id_to), edge_properties in graph.edges.items():\n",
    "        print(f\"node_id_from: {node_id_from}, node_id_to: {node_id_to}, \"\n",
    "              f\"edge_properties: {edge_properties}\")\n",
    "\n",
    "    pos = nx.spring_layout(graph)\n",
    "    nx.draw_networkx_nodes(graph, pos)\n",
    "    nx.draw_networkx_edges(graph, pos)\n",
    "    nx.draw_networkx_labels(graph, pos)\n",
    "    # nx.draw_networkx_labels(graph, pos, graph.nodes)\n",
    "    plt.show()"
   ]
  }
 ],
 "metadata": {
  "kernelspec": {
   "display_name": "cybersim",
   "language": "python",
   "name": "python3"
  },
  "language_info": {
   "codemirror_mode": {
    "name": "ipython",
    "version": 3
   },
   "file_extension": ".py",
   "mimetype": "text/x-python",
   "name": "python",
   "nbconvert_exporter": "python",
   "pygments_lexer": "ipython3",
   "version": "3.9.18"
  }
 },
 "nbformat": 4,
 "nbformat_minor": 2
}
